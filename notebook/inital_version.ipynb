{
 "cells": [
  {
   "cell_type": "code",
   "execution_count": 111,
   "metadata": {
    "_cell_guid": "b1076dfc-b9ad-4769-8c92-a6c4dae69d19",
    "_uuid": "8f2839f25d086af736a60e9eeb907d3b93b6e0e5",
    "execution": {
     "iopub.execute_input": "2022-03-28T07:40:55.364088Z",
     "iopub.status.busy": "2022-03-28T07:40:55.363819Z",
     "iopub.status.idle": "2022-03-28T07:40:55.375077Z",
     "shell.execute_reply": "2022-03-28T07:40:55.374532Z",
     "shell.execute_reply.started": "2022-03-28T07:40:55.364060Z"
    }
   },
   "outputs": [],
   "source": [
    "# This Python 3 environment comes with many helpful analytics libraries installed\n",
    "# It is defined by the kaggle/python Docker image: https://github.com/kaggle/docker-python\n",
    "# For example, here's several helpful packages to load\n",
    "\n",
    "import numpy as np # linear algebra\n",
    "import pandas as pd # data processing, CSV file I/O (e.g. pd.read_csv)\n",
    "\n",
    "# Input data files are available in the read-only \"../input/\" directory\n",
    "# For example, running this (by clicking run or pressing Shift+Enter) will list all files under the input directory\n",
    "\n",
    "import os\n",
    "for dirname, _, filenames in os.walk('/kaggle/input'):\n",
    "    for filename in filenames:\n",
    "        print(os.path.join(dirname, filename))\n",
    "\n",
    "# You can write up to 20GB to the current directory (/kaggle/working/) that gets preserved as output when you create a version using \"Save & Run All\" \n",
    "# You can also write temporary files to /kaggle/temp/, but they won't be saved outside of the current session"
   ]
  },
  {
   "cell_type": "code",
   "execution_count": 155,
   "metadata": {
    "execution": {
     "iopub.execute_input": "2022-03-28T08:05:01.730376Z",
     "iopub.status.busy": "2022-03-28T08:05:01.729633Z",
     "iopub.status.idle": "2022-03-28T08:05:02.576613Z",
     "shell.execute_reply": "2022-03-28T08:05:02.575795Z",
     "shell.execute_reply.started": "2022-03-28T08:05:01.730336Z"
    }
   },
   "outputs": [],
   "source": [
    "df =pd.read_csv(\"/kaggle/input/hotel-booking/hotel_booking.csv\")\n",
    "df"
   ]
  },
  {
   "cell_type": "code",
   "execution_count": 3,
   "metadata": {
    "execution": {
     "iopub.execute_input": "2022-03-28T06:45:56.273286Z",
     "iopub.status.busy": "2022-03-28T06:45:56.272655Z",
     "iopub.status.idle": "2022-03-28T06:45:56.503302Z",
     "shell.execute_reply": "2022-03-28T06:45:56.502436Z",
     "shell.execute_reply.started": "2022-03-28T06:45:56.273247Z"
    }
   },
   "outputs": [],
   "source": [
    "df.info()"
   ]
  },
  {
   "cell_type": "code",
   "execution_count": 5,
   "metadata": {
    "execution": {
     "iopub.execute_input": "2022-03-28T06:49:48.096154Z",
     "iopub.status.busy": "2022-03-28T06:49:48.095845Z",
     "iopub.status.idle": "2022-03-28T06:49:49.023122Z",
     "shell.execute_reply": "2022-03-28T06:49:49.022281Z",
     "shell.execute_reply.started": "2022-03-28T06:49:48.096126Z"
    }
   },
   "outputs": [],
   "source": [
    "import matplotlib.pyplot as plt\n",
    "import seaborn as sns"
   ]
  },
  {
   "cell_type": "code",
   "execution_count": 9,
   "metadata": {
    "execution": {
     "iopub.execute_input": "2022-03-28T06:51:15.864795Z",
     "iopub.status.busy": "2022-03-28T06:51:15.864539Z",
     "iopub.status.idle": "2022-03-28T06:51:15.873453Z",
     "shell.execute_reply": "2022-03-28T06:51:15.872845Z",
     "shell.execute_reply.started": "2022-03-28T06:51:15.864768Z"
    }
   },
   "outputs": [],
   "source": [
    "df.dtypes"
   ]
  },
  {
   "cell_type": "code",
   "execution_count": 12,
   "metadata": {
    "execution": {
     "iopub.execute_input": "2022-03-28T06:51:59.151972Z",
     "iopub.status.busy": "2022-03-28T06:51:59.151596Z",
     "iopub.status.idle": "2022-03-28T06:51:59.176811Z",
     "shell.execute_reply": "2022-03-28T06:51:59.176191Z",
     "shell.execute_reply.started": "2022-03-28T06:51:59.151940Z"
    }
   },
   "outputs": [],
   "source": [
    "cat_df_cols  =df.select_dtypes(\"object\").columns"
   ]
  },
  {
   "cell_type": "code",
   "execution_count": 15,
   "metadata": {
    "execution": {
     "iopub.execute_input": "2022-03-28T06:52:42.036821Z",
     "iopub.status.busy": "2022-03-28T06:52:42.036352Z",
     "iopub.status.idle": "2022-03-28T06:52:42.283765Z",
     "shell.execute_reply": "2022-03-28T06:52:42.283208Z",
     "shell.execute_reply.started": "2022-03-28T06:52:42.036789Z"
    }
   },
   "outputs": [],
   "source": [
    "df[cat_df_cols].nunique()"
   ]
  },
  {
   "cell_type": "code",
   "execution_count": 18,
   "metadata": {
    "execution": {
     "iopub.execute_input": "2022-03-28T06:53:41.023323Z",
     "iopub.status.busy": "2022-03-28T06:53:41.022630Z",
     "iopub.status.idle": "2022-03-28T06:53:41.040336Z",
     "shell.execute_reply": "2022-03-28T06:53:41.039661Z",
     "shell.execute_reply.started": "2022-03-28T06:53:41.023279Z"
    }
   },
   "outputs": [],
   "source": [
    "df['market_segment'].unique()"
   ]
  },
  {
   "cell_type": "code",
   "execution_count": 23,
   "metadata": {
    "execution": {
     "iopub.execute_input": "2022-03-28T06:58:58.078330Z",
     "iopub.status.busy": "2022-03-28T06:58:58.078064Z",
     "iopub.status.idle": "2022-03-28T07:00:50.703561Z",
     "shell.execute_reply": "2022-03-28T07:00:50.703002Z",
     "shell.execute_reply.started": "2022-03-28T06:58:58.078299Z"
    }
   },
   "outputs": [],
   "source": [
    "for col in cat_df_cols:\n",
    "    col_Series = df[col].value_counts()\n",
    "    \n",
    "    if col_Series.shape[0]<50:\n",
    "        plt.bar(col_Series.index,col_Series)\n",
    "    elif col_Series.shape[0]<80000:\n",
    "        plt.plot(col_Series.index,col_Series)\n",
    "    else:\n",
    "        continue\n",
    "    \n",
    "    plt.title(col)\n",
    "    plt.show()\n",
    "    "
   ]
  },
  {
   "cell_type": "code",
   "execution_count": 25,
   "metadata": {
    "execution": {
     "iopub.execute_input": "2022-03-28T07:01:04.787819Z",
     "iopub.status.busy": "2022-03-28T07:01:04.787544Z",
     "iopub.status.idle": "2022-03-28T07:01:04.795413Z",
     "shell.execute_reply": "2022-03-28T07:01:04.794908Z",
     "shell.execute_reply.started": "2022-03-28T07:01:04.787787Z"
    }
   },
   "outputs": [],
   "source": [
    "df['is_canceled'].value_counts()"
   ]
  },
  {
   "cell_type": "code",
   "execution_count": 27,
   "metadata": {
    "execution": {
     "iopub.execute_input": "2022-03-28T07:02:26.804137Z",
     "iopub.status.busy": "2022-03-28T07:02:26.803807Z",
     "iopub.status.idle": "2022-03-28T07:02:26.809970Z",
     "shell.execute_reply": "2022-03-28T07:02:26.809115Z",
     "shell.execute_reply.started": "2022-03-28T07:02:26.804107Z"
    }
   },
   "outputs": [],
   "source": [
    "cat_df_cols"
   ]
  },
  {
   "cell_type": "code",
   "execution_count": 34,
   "metadata": {
    "execution": {
     "iopub.execute_input": "2022-03-28T07:07:04.517461Z",
     "iopub.status.busy": "2022-03-28T07:07:04.517184Z",
     "iopub.status.idle": "2022-03-28T07:07:04.572541Z",
     "shell.execute_reply": "2022-03-28T07:07:04.571752Z",
     "shell.execute_reply.started": "2022-03-28T07:07:04.517431Z"
    }
   },
   "outputs": [],
   "source": [
    "df.groupby(\"is_canceled\")['hotel',\"reservation_status\",\"meal\"]"
   ]
  },
  {
   "cell_type": "code",
   "execution_count": 38,
   "metadata": {
    "execution": {
     "iopub.execute_input": "2022-03-28T07:09:44.453976Z",
     "iopub.status.busy": "2022-03-28T07:09:44.453672Z",
     "iopub.status.idle": "2022-03-28T07:09:44.507371Z",
     "shell.execute_reply": "2022-03-28T07:09:44.506551Z",
     "shell.execute_reply.started": "2022-03-28T07:09:44.453942Z"
    }
   },
   "outputs": [],
   "source": [
    "groupby =df.groupby(\"is_canceled\")\n",
    "\n",
    "# groupby['hotel',\"reservation_status\",\"meal\"].apply(lambda x : x)"
   ]
  },
  {
   "cell_type": "code",
   "execution_count": null,
   "metadata": {},
   "outputs": [],
   "source": [
    "\"\"\"\n",
    "Analyse \n",
    "    - Distribuition for each category of is_Cancelled and how it got influnced by all other factors\n",
    "    - some notable columns\n",
    "        - hotel\n",
    "        - reservation_status\n",
    "        - lead_time (arrival_time - booking_time)\n",
    "        - \n",
    "    \n",
    "    \n",
    "    \n",
    "    \n",
    "is_Cancelled ---> 1. ---> (\n",
    "                           )\n",
    "                  0. ---> ()\n",
    "\n",
    "\n",
    "\"\"\""
   ]
  },
  {
   "cell_type": "code",
   "execution_count": null,
   "metadata": {},
   "outputs": [],
   "source": [
    "df['is_canceled']==0"
   ]
  },
  {
   "cell_type": "code",
   "execution_count": null,
   "metadata": {},
   "outputs": [],
   "source": [
    "\n",
    "\"\"\"\n",
    "how much fo\n",
    "\n",
    "RFE :  \n",
    "\n",
    "\"\"\""
   ]
  },
  {
   "cell_type": "code",
   "execution_count": 39,
   "metadata": {
    "execution": {
     "iopub.execute_input": "2022-03-28T07:16:47.871654Z",
     "iopub.status.busy": "2022-03-28T07:16:47.871338Z",
     "iopub.status.idle": "2022-03-28T07:16:47.875654Z",
     "shell.execute_reply": "2022-03-28T07:16:47.874647Z",
     "shell.execute_reply.started": "2022-03-28T07:16:47.871620Z"
    }
   },
   "outputs": [],
   "source": [
    "# Correlation"
   ]
  },
  {
   "cell_type": "markdown",
   "metadata": {},
   "source": [
    "# missing \n",
    "# data \n",
    "# types \n",
    "#     - col Types"
   ]
  },
  {
   "cell_type": "code",
   "execution_count": 43,
   "metadata": {
    "execution": {
     "iopub.execute_input": "2022-03-28T07:20:30.878154Z",
     "iopub.status.busy": "2022-03-28T07:20:30.877894Z",
     "iopub.status.idle": "2022-03-28T07:20:30.881834Z",
     "shell.execute_reply": "2022-03-28T07:20:30.880741Z",
     "shell.execute_reply.started": "2022-03-28T07:20:30.878126Z"
    }
   },
   "outputs": [],
   "source": [
    "# Few Things to be handled before EDA\n",
    "# missing \n",
    "# data \n",
    "# types \n",
    "#     - col Types"
   ]
  },
  {
   "cell_type": "code",
   "execution_count": 45,
   "metadata": {
    "execution": {
     "iopub.execute_input": "2022-03-28T07:20:45.164381Z",
     "iopub.status.busy": "2022-03-28T07:20:45.163676Z",
     "iopub.status.idle": "2022-03-28T07:20:45.369360Z",
     "shell.execute_reply": "2022-03-28T07:20:45.368559Z",
     "shell.execute_reply.started": "2022-03-28T07:20:45.164330Z"
    }
   },
   "outputs": [],
   "source": [
    "df.isnull().sum()"
   ]
  },
  {
   "cell_type": "code",
   "execution_count": 51,
   "metadata": {
    "execution": {
     "iopub.execute_input": "2022-03-28T07:23:21.072304Z",
     "iopub.status.busy": "2022-03-28T07:23:21.071567Z",
     "iopub.status.idle": "2022-03-28T07:23:21.108278Z",
     "shell.execute_reply": "2022-03-28T07:23:21.107612Z",
     "shell.execute_reply.started": "2022-03-28T07:23:21.072261Z"
    }
   },
   "outputs": [],
   "source": [
    "missing_df = df[[\"country\",\"agent\",\"company\"]]\n",
    "missing_df.apply(lambda x : x.mode())"
   ]
  },
  {
   "cell_type": "code",
   "execution_count": 79,
   "metadata": {
    "execution": {
     "iopub.execute_input": "2022-03-28T07:32:01.707991Z",
     "iopub.status.busy": "2022-03-28T07:32:01.707716Z",
     "iopub.status.idle": "2022-03-28T07:32:01.904233Z",
     "shell.execute_reply": "2022-03-28T07:32:01.903647Z",
     "shell.execute_reply.started": "2022-03-28T07:32:01.707961Z"
    }
   },
   "outputs": [],
   "source": [
    "missing_df['country'].value_counts(dropna=False)#.plot()"
   ]
  },
  {
   "cell_type": "code",
   "execution_count": 64,
   "metadata": {
    "execution": {
     "iopub.execute_input": "2022-03-28T07:26:32.216363Z",
     "iopub.status.busy": "2022-03-28T07:26:32.215831Z",
     "iopub.status.idle": "2022-03-28T07:26:32.225733Z",
     "shell.execute_reply": "2022-03-28T07:26:32.224689Z",
     "shell.execute_reply.started": "2022-03-28T07:26:32.216330Z"
    }
   },
   "outputs": [],
   "source": [
    "missing_df['agent'].value_counts(dropna=False)#.plot(kind=\"bar\")"
   ]
  },
  {
   "cell_type": "code",
   "execution_count": 63,
   "metadata": {
    "execution": {
     "iopub.execute_input": "2022-03-28T07:26:15.496573Z",
     "iopub.status.busy": "2022-03-28T07:26:15.495685Z",
     "iopub.status.idle": "2022-03-28T07:26:15.506397Z",
     "shell.execute_reply": "2022-03-28T07:26:15.505658Z",
     "shell.execute_reply.started": "2022-03-28T07:26:15.496530Z"
    }
   },
   "outputs": [],
   "source": [
    "x=missing_df['company'].value_counts(sort=False,dropna=False)\n",
    "x"
   ]
  },
  {
   "cell_type": "code",
   "execution_count": null,
   "metadata": {},
   "outputs": [],
   "source": [
    "pd.Series.to_dict()"
   ]
  },
  {
   "cell_type": "code",
   "execution_count": 104,
   "metadata": {
    "execution": {
     "iopub.execute_input": "2022-03-28T07:38:20.628210Z",
     "iopub.status.busy": "2022-03-28T07:38:20.627661Z",
     "iopub.status.idle": "2022-03-28T07:38:20.656588Z",
     "shell.execute_reply": "2022-03-28T07:38:20.655806Z",
     "shell.execute_reply.started": "2022-03-28T07:38:20.628165Z"
    }
   },
   "outputs": [],
   "source": [
    "misisng_stats = df[[\"country\",\"agent\",\"company\"]].mode().to_dict(\"index\")[0]"
   ]
  },
  {
   "cell_type": "code",
   "execution_count": 113,
   "metadata": {
    "execution": {
     "iopub.execute_input": "2022-03-28T07:41:53.816998Z",
     "iopub.status.busy": "2022-03-28T07:41:53.816523Z",
     "iopub.status.idle": "2022-03-28T07:41:54.286988Z",
     "shell.execute_reply": "2022-03-28T07:41:54.286413Z",
     "shell.execute_reply.started": "2022-03-28T07:41:53.816962Z"
    }
   },
   "outputs": [],
   "source": [
    "def fill_missing(df):\n",
    "    cols_with_missing_data = df.columns[df.isnull().sum()>0]\n",
    "    misising_stats = df[cols_with_missing_data].mode().to_dict(\"index\")[0]\n",
    "    for col in cols_with_missing_data:\n",
    "        df[col]=df[col].fillna(misising_stats[col])\n",
    "    return df \n",
    "\n",
    "df1 = fill_missing(df.copy())\n",
    "df1.isnull().sum()"
   ]
  },
  {
   "cell_type": "code",
   "execution_count": 114,
   "metadata": {
    "execution": {
     "iopub.execute_input": "2022-03-28T07:42:06.775322Z",
     "iopub.status.busy": "2022-03-28T07:42:06.774934Z",
     "iopub.status.idle": "2022-03-28T07:42:06.877838Z",
     "shell.execute_reply": "2022-03-28T07:42:06.877277Z",
     "shell.execute_reply.started": "2022-03-28T07:42:06.775293Z"
    }
   },
   "outputs": [],
   "source": [
    "df1"
   ]
  },
  {
   "cell_type": "code",
   "execution_count": 115,
   "metadata": {
    "execution": {
     "iopub.execute_input": "2022-03-28T07:43:08.855772Z",
     "iopub.status.busy": "2022-03-28T07:43:08.855283Z",
     "iopub.status.idle": "2022-03-28T07:43:08.961123Z",
     "shell.execute_reply": "2022-03-28T07:43:08.960288Z",
     "shell.execute_reply.started": "2022-03-28T07:43:08.855724Z"
    }
   },
   "outputs": [],
   "source": [
    "df1"
   ]
  },
  {
   "cell_type": "code",
   "execution_count": null,
   "metadata": {},
   "outputs": [],
   "source": []
  },
  {
   "cell_type": "code",
   "execution_count": 127,
   "metadata": {
    "execution": {
     "iopub.execute_input": "2022-03-28T07:50:46.913349Z",
     "iopub.status.busy": "2022-03-28T07:50:46.913069Z",
     "iopub.status.idle": "2022-03-28T07:50:46.917945Z",
     "shell.execute_reply": "2022-03-28T07:50:46.916851Z",
     "shell.execute_reply.started": "2022-03-28T07:50:46.913316Z"
    }
   },
   "outputs": [],
   "source": [
    "from sklearn.feature_selection import RFE\n",
    "from sklearn.ensemble import RandomForestClassifier\n",
    "from sklearn.preprocessing import LabelEncoder"
   ]
  },
  {
   "cell_type": "code",
   "execution_count": 133,
   "metadata": {
    "execution": {
     "iopub.execute_input": "2022-03-28T07:54:30.325065Z",
     "iopub.status.busy": "2022-03-28T07:54:30.324777Z",
     "iopub.status.idle": "2022-03-28T07:54:32.066479Z",
     "shell.execute_reply": "2022-03-28T07:54:32.065904Z",
     "shell.execute_reply.started": "2022-03-28T07:54:30.325035Z"
    }
   },
   "outputs": [],
   "source": [
    "cat_cols = df1.select_dtypes('object').columns\n",
    "cat_df =df1[cat_cols]\n",
    "\n",
    "\n",
    "encoders = {}\n",
    "for col in cat_cols:\n",
    "    encoders[col]= LabelEncoder()\n",
    "    df1[col] = encoders[col].fit_transform(cat_df[col])\n",
    "\n",
    "encoders #save"
   ]
  },
  {
   "cell_type": "code",
   "execution_count": 135,
   "metadata": {
    "execution": {
     "iopub.execute_input": "2022-03-28T07:55:03.347369Z",
     "iopub.status.busy": "2022-03-28T07:55:03.346706Z",
     "iopub.status.idle": "2022-03-28T07:55:03.358408Z",
     "shell.execute_reply": "2022-03-28T07:55:03.357779Z",
     "shell.execute_reply.started": "2022-03-28T07:55:03.347330Z"
    }
   },
   "outputs": [],
   "source": [
    "df1.dtypes"
   ]
  },
  {
   "cell_type": "code",
   "execution_count": 138,
   "metadata": {
    "execution": {
     "iopub.execute_input": "2022-03-28T07:56:03.796954Z",
     "iopub.status.busy": "2022-03-28T07:56:03.796627Z",
     "iopub.status.idle": "2022-03-28T07:56:16.825406Z",
     "shell.execute_reply": "2022-03-28T07:56:16.824664Z",
     "shell.execute_reply.started": "2022-03-28T07:56:03.796919Z"
    }
   },
   "outputs": [],
   "source": [
    "# target = df1.pop(\"is_canceled\")\n",
    "\n",
    "clf = RandomForestClassifier()\n",
    "\n",
    "clf.fit(df1,target)"
   ]
  },
  {
   "cell_type": "code",
   "execution_count": 145,
   "metadata": {
    "execution": {
     "iopub.execute_input": "2022-03-28T08:00:08.320182Z",
     "iopub.status.busy": "2022-03-28T08:00:08.319725Z",
     "iopub.status.idle": "2022-03-28T08:00:08.738802Z",
     "shell.execute_reply": "2022-03-28T08:00:08.737911Z",
     "shell.execute_reply.started": "2022-03-28T08:00:08.320133Z"
    }
   },
   "outputs": [],
   "source": [
    "plt.figure(figsize=(20,8))\n",
    "plt.bar(df1.columns,clf.feature_importances_)\n",
    "plt.xticks(rotation=\"90\")\n",
    "plt.show()"
   ]
  },
  {
   "cell_type": "code",
   "execution_count": 146,
   "metadata": {
    "execution": {
     "iopub.execute_input": "2022-03-28T08:00:33.819597Z",
     "iopub.status.busy": "2022-03-28T08:00:33.818869Z",
     "iopub.status.idle": "2022-03-28T08:00:34.267822Z",
     "shell.execute_reply": "2022-03-28T08:00:34.267077Z",
     "shell.execute_reply.started": "2022-03-28T08:00:33.819560Z"
    }
   },
   "outputs": [],
   "source": [
    "df1.corr()\n"
   ]
  },
  {
   "cell_type": "code",
   "execution_count": 148,
   "metadata": {
    "execution": {
     "iopub.execute_input": "2022-03-28T08:01:17.878248Z",
     "iopub.status.busy": "2022-03-28T08:01:17.877967Z",
     "iopub.status.idle": "2022-03-28T08:01:19.323535Z",
     "shell.execute_reply": "2022-03-28T08:01:19.322765Z",
     "shell.execute_reply.started": "2022-03-28T08:01:17.878220Z"
    }
   },
   "outputs": [],
   "source": [
    "plt.figure(figsize=(20,8))\n",
    "sns.heatmap(df1.corr())"
   ]
  },
  {
   "cell_type": "code",
   "execution_count": 151,
   "metadata": {
    "execution": {
     "iopub.execute_input": "2022-03-28T08:02:06.896838Z",
     "iopub.status.busy": "2022-03-28T08:02:06.896553Z",
     "iopub.status.idle": "2022-03-28T08:02:06.900328Z",
     "shell.execute_reply": "2022-03-28T08:02:06.899470Z",
     "shell.execute_reply.started": "2022-03-28T08:02:06.896804Z"
    }
   },
   "outputs": [],
   "source": [
    "# evalution\n",
    "\n"
   ]
  },
  {
   "cell_type": "code",
   "execution_count": 158,
   "metadata": {
    "execution": {
     "iopub.execute_input": "2022-03-28T08:05:53.867930Z",
     "iopub.status.busy": "2022-03-28T08:05:53.867640Z",
     "iopub.status.idle": "2022-03-28T08:05:53.871753Z",
     "shell.execute_reply": "2022-03-28T08:05:53.871101Z",
     "shell.execute_reply.started": "2022-03-28T08:05:53.867898Z"
    }
   },
   "outputs": [],
   "source": [
    "from sklearn.metrics import confusion_matrix,accuracy_score,f1_score\n",
    "import sklearn.metrics as metrics\n",
    "from sklearn.model_selection import train_test_split"
   ]
  },
  {
   "cell_type": "code",
   "execution_count": 160,
   "metadata": {
    "execution": {
     "iopub.execute_input": "2022-03-28T08:06:35.783891Z",
     "iopub.status.busy": "2022-03-28T08:06:35.783586Z",
     "iopub.status.idle": "2022-03-28T08:06:35.789114Z",
     "shell.execute_reply": "2022-03-28T08:06:35.788014Z",
     "shell.execute_reply.started": "2022-03-28T08:06:35.783845Z"
    }
   },
   "outputs": [],
   "source": [
    "X=df1\n",
    "y=df['is_canceled']"
   ]
  },
  {
   "cell_type": "code",
   "execution_count": 161,
   "metadata": {
    "execution": {
     "iopub.execute_input": "2022-03-28T08:06:37.710568Z",
     "iopub.status.busy": "2022-03-28T08:06:37.710089Z",
     "iopub.status.idle": "2022-03-28T08:06:37.755172Z",
     "shell.execute_reply": "2022-03-28T08:06:37.754566Z",
     "shell.execute_reply.started": "2022-03-28T08:06:37.710535Z"
    }
   },
   "outputs": [],
   "source": [
    "X_train, X_test, y_train, y_test = train_test_split(X, y, test_size=0.33, random_state=42)\n",
    "\n",
    "######### encoding ########\n",
    "\n",
    "\n",
    "############################"
   ]
  },
  {
   "cell_type": "code",
   "execution_count": 176,
   "metadata": {
    "execution": {
     "iopub.execute_input": "2022-03-28T08:09:44.677442Z",
     "iopub.status.busy": "2022-03-28T08:09:44.677155Z",
     "iopub.status.idle": "2022-03-28T08:09:44.684809Z",
     "shell.execute_reply": "2022-03-28T08:09:44.683991Z",
     "shell.execute_reply.started": "2022-03-28T08:09:44.677409Z"
    }
   },
   "outputs": [],
   "source": [
    "X_train.dtypes"
   ]
  },
  {
   "cell_type": "code",
   "execution_count": null,
   "metadata": {},
   "outputs": [],
   "source": []
  },
  {
   "cell_type": "code",
   "execution_count": 162,
   "metadata": {
    "execution": {
     "iopub.execute_input": "2022-03-28T08:06:47.329489Z",
     "iopub.status.busy": "2022-03-28T08:06:47.329195Z",
     "iopub.status.idle": "2022-03-28T08:06:56.345695Z",
     "shell.execute_reply": "2022-03-28T08:06:56.344806Z",
     "shell.execute_reply.started": "2022-03-28T08:06:47.329454Z"
    }
   },
   "outputs": [],
   "source": [
    "# target = df1.pop(\"is_canceled\")\n",
    "\n",
    "clf = RandomForestClassifier()\n",
    "\n",
    "clf.fit(X_train,y_train)"
   ]
  },
  {
   "cell_type": "code",
   "execution_count": 163,
   "metadata": {
    "execution": {
     "iopub.execute_input": "2022-03-28T08:07:01.967639Z",
     "iopub.status.busy": "2022-03-28T08:07:01.966876Z",
     "iopub.status.idle": "2022-03-28T08:07:02.392853Z",
     "shell.execute_reply": "2022-03-28T08:07:02.392052Z",
     "shell.execute_reply.started": "2022-03-28T08:07:01.967606Z"
    }
   },
   "outputs": [],
   "source": [
    "y_pred = clf.predict(X_test)"
   ]
  },
  {
   "cell_type": "code",
   "execution_count": 167,
   "metadata": {
    "execution": {
     "iopub.execute_input": "2022-03-28T08:08:01.651556Z",
     "iopub.status.busy": "2022-03-28T08:08:01.651255Z",
     "iopub.status.idle": "2022-03-28T08:08:01.872395Z",
     "shell.execute_reply": "2022-03-28T08:08:01.871574Z",
     "shell.execute_reply.started": "2022-03-28T08:08:01.651527Z"
    }
   },
   "outputs": [],
   "source": [
    "sns.heatmap(confusion_matrix(y_test,y_pred),annot=True)"
   ]
  },
  {
   "cell_type": "code",
   "execution_count": 168,
   "metadata": {
    "execution": {
     "iopub.execute_input": "2022-03-28T08:08:13.479634Z",
     "iopub.status.busy": "2022-03-28T08:08:13.479356Z",
     "iopub.status.idle": "2022-03-28T08:08:13.496646Z",
     "shell.execute_reply": "2022-03-28T08:08:13.495641Z",
     "shell.execute_reply.started": "2022-03-28T08:08:13.479602Z"
    }
   },
   "outputs": [],
   "source": [
    "pd.DataFrame(confusion_matrix(y_test,y_pred))"
   ]
  },
  {
   "cell_type": "code",
   "execution_count": 173,
   "metadata": {
    "execution": {
     "iopub.execute_input": "2022-03-28T08:09:27.328321Z",
     "iopub.status.busy": "2022-03-28T08:09:27.327719Z",
     "iopub.status.idle": "2022-03-28T08:09:27.335703Z",
     "shell.execute_reply": "2022-03-28T08:09:27.335203Z",
     "shell.execute_reply.started": "2022-03-28T08:09:27.328271Z"
    }
   },
   "outputs": [],
   "source": [
    "print(accuracy_score(y_test,y_pred))"
   ]
  },
  {
   "cell_type": "code",
   "execution_count": 174,
   "metadata": {
    "execution": {
     "iopub.execute_input": "2022-03-28T08:09:28.872820Z",
     "iopub.status.busy": "2022-03-28T08:09:28.872438Z",
     "iopub.status.idle": "2022-03-28T08:09:28.893672Z",
     "shell.execute_reply": "2022-03-28T08:09:28.892923Z",
     "shell.execute_reply.started": "2022-03-28T08:09:28.872790Z"
    }
   },
   "outputs": [],
   "source": [
    "metrics.f1_score(y_test,y_pred)"
   ]
  },
  {
   "cell_type": "code",
   "execution_count": null,
   "metadata": {},
   "outputs": [],
   "source": []
  }
 ],
 "metadata": {
  "kernelspec": {
   "display_name": "Python 3 (ipykernel)",
   "language": "python",
   "name": "python3"
  },
  "language_info": {
   "codemirror_mode": {
    "name": "ipython",
    "version": 3
   },
   "file_extension": ".py",
   "mimetype": "text/x-python",
   "name": "python",
   "nbconvert_exporter": "python",
   "pygments_lexer": "ipython3",
   "version": "3.8.2"
  }
 },
 "nbformat": 4,
 "nbformat_minor": 4
}
